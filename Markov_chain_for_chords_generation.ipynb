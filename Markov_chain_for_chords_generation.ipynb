{
 "cells": [
  {
   "cell_type": "markdown",
   "metadata": {},
   "source": [
    "# Markov chain-based approach for the music generation"
   ]
  },
  {
   "cell_type": "code",
   "execution_count": 7,
   "metadata": {
    "ExecuteTime": {
     "end_time": "2023-12-07T19:39:00.139600Z",
     "start_time": "2023-12-07T19:39:00.120563Z"
    }
   },
   "outputs": [],
   "source": [
    "import numpy as np\n",
    "import pandas as pd\n",
    "from collections import Counter\n",
    "np.random.seed(42)\n",
    "\n",
    "# read file\n",
    "data = pd.read_csv('data/Liverpool_band_chord_sequence.csv')"
   ]
  },
  {
   "cell_type": "markdown",
   "metadata": {},
   "source": [
    "## Generate bigrams"
   ]
  },
  {
   "cell_type": "code",
   "execution_count": 8,
   "metadata": {
    "ExecuteTime": {
     "end_time": "2023-12-07T19:39:00.141618Z",
     "start_time": "2023-12-07T19:39:00.124121Z"
    }
   },
   "outputs": [
    {
     "data": {
      "text/plain": "['F Em7', 'Em7 A7', 'A7 Dm', 'Dm Dm7', 'Dm7 Bb']"
     },
     "execution_count": 8,
     "metadata": {},
     "output_type": "execute_result"
    }
   ],
   "source": [
    "n = 2\n",
    "chords = data['chords'].values\n",
    "ngrams = zip(*[chords[i:] for i in range(n)])\n",
    "bigrams = [\" \".join(ngram) for ngram in ngrams]\n",
    "\n",
    "bigrams[:5]"
   ]
  },
  {
   "cell_type": "markdown",
   "metadata": {},
   "source": [
    "## Predict next state with Markov chain"
   ]
  },
  {
   "cell_type": "code",
   "execution_count": 9,
   "metadata": {
    "ExecuteTime": {
     "end_time": "2023-12-07T19:39:00.162404Z",
     "start_time": "2023-12-07T19:39:00.133379Z"
    }
   },
   "outputs": [],
   "source": [
    "def predict_next_state(chord:str, bigrams:list=bigrams):\n",
    "    \"\"\"Predict next chord based on current state.\"\"\"\n",
    "    # create list of bigrams which stats with current chord\n",
    "    bigrams_with_current_chord = [bigram for bigram in bigrams if bigram.split(' ')[0]==chord]\n",
    "    # count appearance of each bigram\n",
    "    count_appearance = dict(Counter(bigrams_with_current_chord))\n",
    "    # convert apperance into probabilities\n",
    "    for ngram in count_appearance.keys():\n",
    "        count_appearance[ngram] = count_appearance[ngram]/len(bigrams_with_current_chord)\n",
    "    # create list of possible options for the next chord\n",
    "    # uses second chord from bigram, because first one is current chord (see line 4)\n",
    "    options = [key.split(' ')[1] for key in count_appearance.keys()]\n",
    "    # create  list of probability distribution\n",
    "    probabilities = list(count_appearance.values())\n",
    "    # return random prediction\n",
    "    return np.random.choice(options, p=probabilities)"
   ]
  },
  {
   "cell_type": "code",
   "execution_count": 10,
   "metadata": {
    "ExecuteTime": {
     "end_time": "2023-12-07T19:39:00.163255Z",
     "start_time": "2023-12-07T19:39:00.138021Z"
    }
   },
   "outputs": [
    {
     "data": {
      "text/plain": "'C'"
     },
     "execution_count": 10,
     "metadata": {},
     "output_type": "execute_result"
    }
   ],
   "source": [
    "# example\n",
    "predict_next_state('F')"
   ]
  },
  {
   "cell_type": "markdown",
   "metadata": {},
   "source": [
    "## Generate sequence"
   ]
  },
  {
   "cell_type": "code",
   "execution_count": 23,
   "metadata": {
    "ExecuteTime": {
     "end_time": "2023-12-07T19:45:13.420222Z",
     "start_time": "2023-12-07T19:45:13.418748Z"
    }
   },
   "outputs": [],
   "source": [
    "def generate_sequence(chord:str=None, bigrams:list=bigrams, length:int=20):\n",
    "    \"\"\"Generate sequence of defined length.\"\"\"\n",
    "    # create list to store future chords\n",
    "    chords = []\n",
    "    for n in range(length):\n",
    "        # append next chord for the list\n",
    "        chords.append(predict_next_state(chord, bigrams))\n",
    "        # use last chord in sequence to predict next chord\n",
    "        chord = chords[-1]\n",
    "    return chords"
   ]
  },
  {
   "cell_type": "code",
   "execution_count": 44,
   "metadata": {
    "ExecuteTime": {
     "end_time": "2023-12-07T20:00:10.076073Z",
     "start_time": "2023-12-07T20:00:10.074600Z"
    }
   },
   "outputs": [
    {
     "name": "stdout",
     "output_type": "stream",
     "text": [
      "['Dm7', 'G7', 'Bb', 'F', 'C', 'Bb', 'F', 'Em7', 'A7', 'Dm', 'Gm6', 'C7', 'F', 'Fsus4', 'F', 'Em7', 'A7', 'Dm', 'C', 'Dm7']\n"
     ]
    }
   ],
   "source": [
    "start_chord = 'Dm'\n",
    "generated_seq = generate_sequence(start_chord)\n",
    "print(generated_seq)"
   ]
  },
  {
   "cell_type": "code",
   "execution_count": 45,
   "outputs": [],
   "source": [
    "from musicpy import *\n",
    "\n",
    "# create piece with first chord\n",
    "piece = piece([C(start_chord)], instruments=[1], start_times=[0], channels=[0]) # general midi instruments\n",
    "\n",
    "# append generated chords to the piece\n",
    "for i, chord in enumerate(generated_seq):\n",
    "    t = track(C(chord), instrument=1, start_time=(i+1)*0.3, channel=0) # general midi instruments\n",
    "    piece.append(t)\n",
    "\n",
    "# play piece\n",
    "piece.play()\n"
   ],
   "metadata": {
    "collapsed": false,
    "ExecuteTime": {
     "end_time": "2023-12-07T20:00:11.981341Z",
     "start_time": "2023-12-07T20:00:11.958899Z"
    }
   }
  }
 ],
 "metadata": {
  "kernelspec": {
   "display_name": "Python 3",
   "language": "python",
   "name": "python3"
  },
  "language_info": {
   "codemirror_mode": {
    "name": "ipython",
    "version": 3
   },
   "file_extension": ".py",
   "mimetype": "text/x-python",
   "name": "python",
   "nbconvert_exporter": "python",
   "pygments_lexer": "ipython3",
   "version": "3.7.3"
  }
 },
 "nbformat": 4,
 "nbformat_minor": 2
}
